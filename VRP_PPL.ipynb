{
  "nbformat": 4,
  "nbformat_minor": 0,
  "metadata": {
    "colab": {
      "provenance": [],
      "authorship_tag": "ABX9TyN+PELmER2pXwP6FIZ4K6eo",
      "include_colab_link": true
    },
    "kernelspec": {
      "name": "python3",
      "display_name": "Python 3"
    },
    "language_info": {
      "name": "python"
    }
  },
  "cells": [
    {
      "cell_type": "markdown",
      "metadata": {
        "id": "view-in-github",
        "colab_type": "text"
      },
      "source": [
        "<a href=\"https://colab.research.google.com/github/EstSanchez/CVRP-Merida/blob/main/VRP_PPL.ipynb\" target=\"_parent\"><img src=\"https://colab.research.google.com/assets/colab-badge.svg\" alt=\"Open In Colab\"/></a>"
      ]
    },
    {
      "cell_type": "code",
      "execution_count": 2,
      "metadata": {
        "id": "evIEcmpSw632",
        "colab": {
          "base_uri": "https://localhost:8080/"
        },
        "outputId": "ea7e7edb-f300-4d31-a9ff-0e8c356a8e37"
      },
      "outputs": [
        {
          "output_type": "stream",
          "name": "stdout",
          "text": [
            "\u001b[2K     \u001b[90m━━━━━━━━━━━━━━━━━━━━━━━━━━━━━━━━━━━━━━━━\u001b[0m \u001b[32m11.9/11.9 MB\u001b[0m \u001b[31m17.7 MB/s\u001b[0m eta \u001b[36m0:00:00\u001b[0m\n",
            "\u001b[2K     \u001b[90m━━━━━━━━━━━━━━━━━━━━━━━━━━━━━━━━━━━━━━━━\u001b[0m \u001b[32m49.6/49.6 kB\u001b[0m \u001b[31m3.6 MB/s\u001b[0m eta \u001b[36m0:00:00\u001b[0m\n",
            "\u001b[?25hSelecting previously unselected package libsuitesparseconfig5:amd64.\n",
            "(Reading database ... 120500 files and directories currently installed.)\n",
            "Preparing to unpack .../libsuitesparseconfig5_1%3a5.10.1+dfsg-4build1_amd64.deb ...\n",
            "Unpacking libsuitesparseconfig5:amd64 (1:5.10.1+dfsg-4build1) ...\n",
            "Selecting previously unselected package libamd2:amd64.\n",
            "Preparing to unpack .../libamd2_1%3a5.10.1+dfsg-4build1_amd64.deb ...\n",
            "Unpacking libamd2:amd64 (1:5.10.1+dfsg-4build1) ...\n",
            "Selecting previously unselected package libcolamd2:amd64.\n",
            "Preparing to unpack .../libcolamd2_1%3a5.10.1+dfsg-4build1_amd64.deb ...\n",
            "Unpacking libcolamd2:amd64 (1:5.10.1+dfsg-4build1) ...\n",
            "Selecting previously unselected package libglpk40:amd64.\n",
            "Preparing to unpack .../libglpk40_5.0-1_amd64.deb ...\n",
            "Unpacking libglpk40:amd64 (5.0-1) ...\n",
            "Selecting previously unselected package glpk-utils.\n",
            "Preparing to unpack .../glpk-utils_5.0-1_amd64.deb ...\n",
            "Unpacking glpk-utils (5.0-1) ...\n",
            "Setting up libsuitesparseconfig5:amd64 (1:5.10.1+dfsg-4build1) ...\n",
            "Setting up libamd2:amd64 (1:5.10.1+dfsg-4build1) ...\n",
            "Setting up libcolamd2:amd64 (1:5.10.1+dfsg-4build1) ...\n",
            "Setting up libglpk40:amd64 (5.0-1) ...\n",
            "Setting up glpk-utils (5.0-1) ...\n",
            "Processing triggers for man-db (2.10.2-1) ...\n",
            "Processing triggers for libc-bin (2.35-0ubuntu3.1) ...\n"
          ]
        }
      ],
      "source": [
        "!pip install -q pyomo\n",
        "!apt-get install -y -qq glpk-utils"
      ]
    },
    {
      "cell_type": "code",
      "source": [
        "from pyomo.environ import *\n",
        "from itertools import combinations\n",
        "import time\n",
        "\n",
        "start = time.time()\n",
        "\n",
        "model = pyomo.environ.ConcreteModel()\n",
        "\n",
        "\n",
        "\n",
        "\n",
        "numVeh = 3\n",
        "capacidad = 12\n",
        "numNodos = 10\n",
        "\n",
        "costoNodos = [0, 3, 3, 3, 2, 4, 3, 4, 4, 1, 4]\n",
        "\n",
        "costoAristas = [[50.79, 856.42, 1413.8, 363.11, 3037.11, 756.9, 2523.16, 4166.49, 4140.17, 1940.91, 2672.65],\n",
        "[980.35, 103.16, 931.04, 597.12, 3718.78, 388.41, 3204.83, 4848.16, 4821.84, 1319.4, 3354.32],\n",
        "[1622.33, 946.31, 93.31, 1401.41, 4002.56, 1024.51, 3721.5, 5131.94, 5320.76, 995.16, 3798.33],\n",
        "[490.25, 707.55, 1357.02, 47.81, 3203.12, 608.03, 2689.17, 4332.5, 4306.18, 1758.01, 2838.66],\n",
        "[3126.92, 3638.23, 3929.28, 3306.42, 126.41, 3538.71, 1114.53, 1706.26, 1848.95, 4485.78, 965.04],\n",
        "[866.23, 375.34, 1024.81, 469.4, 3591.06, 92.5, 3077.11, 4720.44, 4694.12, 1425.8, 3226.6],\n",
        "[2656.25, 3379.17, 3670.22, 2968.57, 860.43, 3279.65, 149.49, 2093.81, 2096.48, 4226.72, 298.98],\n",
        "[4089.9, 4601.21, 4892.26, 4269.4, 1728.87, 4501.69, 2138.98, 84.5, 1181.86, 5448.76, 1989.49],\n",
        "[4545.06, 5308.59, 5599.64, 4857.38, 2347.52, 5209.07, 2645.53, 1531.42, 21.03, 6156.14, 2496.04],\n",
        "[2208.56, 1450.19, 1239.7, 1877.04, 4616.03, 1528.39, 4334.97, 5745.41, 5934.23, 167.57, 4411.8],\n",
        "[2506.76, 3291.04, 3645.93, 2819.08, 1009.92, 3191.52, 298.98, 2243.3, 2245.97, 4202.43, 149.49]]\n",
        "\n",
        "\n",
        "\n",
        "\n",
        "\n",
        "\n",
        "model = ConcreteModel()\n",
        "\n",
        "model.nodos = RangeSet(numNodos+1)\n",
        "model.nodosS = RangeSet(2, numNodos+1)\n",
        "model.veh = RangeSet(numVeh)\n",
        "\n",
        "model.x = Var(model.nodos, model.nodos, model.veh, domain = Binary)\n",
        "\n",
        "\n",
        "model.obj = Objective(expr = sum(costoAristas[i-1][j-1] * model.x[i, j, k]\n",
        "                                 for i in model.nodos\n",
        "                                 for j in model.nodos\n",
        "                                 for k in model.veh), sense = minimize)\n",
        "\n",
        "\n",
        "\n",
        "#No existen rutas que vayan de un nodo a si mismo\n",
        "model.restriccion_nolazos = ConstraintList()\n",
        "for k in model.veh:\n",
        "  for i in model.nodos:\n",
        "    model.restriccion_nolazos.add(\n",
        "        model.x[i, i, k] == 0\n",
        "    )\n",
        "\n",
        "#La suma de la demanda de los nodos en la ruta de un vehículo es menor o igual a la capacidad de este vehículo\n",
        "model.restriccion_capacidad = ConstraintList()\n",
        "for k in model.veh:\n",
        "  model.restriccion_capacidad.add(\n",
        "      sum(costoNodos[j-1] * model.x[i, j, k]\n",
        "          for i in model.nodos\n",
        "          for j in model.nodos) <= capacidad\n",
        "  )\n",
        "\n",
        "#El mismo vehículo sale del nodo que entra\n",
        "model.restriccion_leavesNode = ConstraintList()\n",
        "for k in model.veh:\n",
        "  for j in model.nodos:\n",
        "    model.restriccion_leavesNode.add(\n",
        "        sum(model.x[i,j,k] for i in model.nodos) == sum(model.x[j,i,k] for i in model.nodos)\n",
        "    )\n",
        "\n",
        "#Cada nodo es pasado por exactamente 1 vehículo\n",
        "model.restriccion_arrivesNode = ConstraintList()\n",
        "for j in model.nodos:\n",
        "    if j >= 2:\n",
        "      model.restriccion_arrivesNode.add(\n",
        "      sum(model.x[i,j,k] for i in model.nodos for k in model.veh if i != j) ==1\n",
        "  )\n",
        "\n",
        "#Todos los vehículos salen del almacen\n",
        "model.restriccion_leavesDepot = ConstraintList()\n",
        "for k in model.veh:\n",
        "  model.restriccion_leavesDepot.add(\n",
        "      sum(model.x[1, j, k] for j in model.nodos if j >= 2) == 1\n",
        "  )\n",
        "\n",
        "\n",
        "#Se eliminan las subrutas\n",
        "model.restriccion_noSubtours = ConstraintList()\n",
        "for r in range(2, numNodos):\n",
        "  for s in combinations(model.nodosS, r):\n",
        "    model.restriccion_noSubtours.add(\n",
        "        sum(model.x[i, j, k] for i in s for j in s if j!=i for k in model.veh) <= len(s)-1\n",
        "    )\n",
        "\n",
        "\n",
        "\n",
        "solver = SolverFactory('glpk')\n",
        "result = solver.solve(model)\n",
        "\n",
        "\n",
        "if result.solver.termination_condition == TerminationCondition.optimal:\n",
        "    for k in model.veh:\n",
        "        for i in model.nodos:\n",
        "            for j in model.nodos:\n",
        "                if value(model.x[i, j, k]) > 0:\n",
        "                    print(f'x[{i-1},{j-1},{k}] = {costoAristas[i-1][j-1]}')\n",
        "\n",
        "    print('Costo Óptimo', value(model.obj))\n",
        "else:\n",
        "    print('No se encontró solución óptima')\n",
        "\n",
        "\n",
        "end = time.time()\n",
        "\n",
        "print(\"time: \" + str(end - start))\n"
      ],
      "metadata": {
        "id": "vYrhl_aEw7fk",
        "colab": {
          "base_uri": "https://localhost:8080/"
        },
        "outputId": "424c9ea7-a30a-452e-a991-0ecd8e1b025d"
      },
      "execution_count": 4,
      "outputs": [
        {
          "output_type": "stream",
          "name": "stdout",
          "text": [
            "x[0,4,1] = 3037.11\n",
            "x[4,7,1] = 1706.26\n",
            "x[7,8,1] = 1181.86\n",
            "x[8,0,1] = 4545.06\n",
            "x[0,3,2] = 363.11\n",
            "x[3,6,2] = 2689.17\n",
            "x[6,10,2] = 298.98\n",
            "x[10,0,2] = 2506.76\n",
            "x[0,2,3] = 1413.8\n",
            "x[1,5,3] = 388.41\n",
            "x[2,9,3] = 995.16\n",
            "x[5,0,3] = 866.23\n",
            "x[9,1,3] = 1450.19\n",
            "Costo Óptimo 21442.1\n",
            "time: 239.98547506332397\n"
          ]
        }
      ]
    },
    {
      "cell_type": "code",
      "source": [],
      "metadata": {
        "id": "F6dhjKGUOF32"
      },
      "execution_count": null,
      "outputs": []
    },
    {
      "cell_type": "markdown",
      "source": [],
      "metadata": {
        "id": "iiIVUZamsZ6U"
      }
    },
    {
      "cell_type": "code",
      "source": [],
      "metadata": {
        "id": "gP6KuSC9Dwqa"
      },
      "execution_count": null,
      "outputs": []
    }
  ]
}